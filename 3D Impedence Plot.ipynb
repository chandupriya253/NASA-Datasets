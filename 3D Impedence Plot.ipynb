{
 "cells": [
  {
   "cell_type": "code",
   "execution_count": 1,
   "metadata": {},
   "outputs": [
    {
     "ename": "ModuleNotFoundError",
     "evalue": "No module named 'numpy'",
     "output_type": "error",
     "traceback": [
      "\u001b[0;31m---------------------------------------------------------------------------\u001b[0m",
      "\u001b[0;31mModuleNotFoundError\u001b[0m                       Traceback (most recent call last)",
      "Cell \u001b[0;32mIn[1], line 2\u001b[0m\n\u001b[1;32m      1\u001b[0m \u001b[38;5;66;03m# Import libraries we need\u001b[39;00m\n\u001b[0;32m----> 2\u001b[0m \u001b[38;5;28;01mimport\u001b[39;00m\u001b[38;5;250m \u001b[39m\u001b[38;5;21;01mnumpy\u001b[39;00m\u001b[38;5;250m \u001b[39m\u001b[38;5;28;01mas\u001b[39;00m\u001b[38;5;250m \u001b[39m\u001b[38;5;21;01mnp\u001b[39;00m  \u001b[38;5;66;03m# For math and numbers\u001b[39;00m\n\u001b[1;32m      3\u001b[0m \u001b[38;5;28;01mimport\u001b[39;00m\u001b[38;5;250m \u001b[39m\u001b[38;5;21;01mmatplotlib\u001b[39;00m\u001b[38;5;21;01m.\u001b[39;00m\u001b[38;5;21;01mpyplot\u001b[39;00m\u001b[38;5;250m \u001b[39m\u001b[38;5;28;01mas\u001b[39;00m\u001b[38;5;250m \u001b[39m\u001b[38;5;21;01mplt\u001b[39;00m  \u001b[38;5;66;03m# For making graphs\u001b[39;00m\n\u001b[1;32m      4\u001b[0m \u001b[38;5;28;01mfrom\u001b[39;00m\u001b[38;5;250m \u001b[39m\u001b[38;5;21;01mmpl_toolkits\u001b[39;00m\u001b[38;5;21;01m.\u001b[39;00m\u001b[38;5;21;01mmplot3d\u001b[39;00m\u001b[38;5;250m \u001b[39m\u001b[38;5;28;01mimport\u001b[39;00m Axes3D  \u001b[38;5;66;03m# For 3D plots\u001b[39;00m\n",
      "\u001b[0;31mModuleNotFoundError\u001b[0m: No module named 'numpy'"
     ]
    }
   ],
   "source": [
    "# Import libraries we need\n",
    "import numpy as np  # For math and numbers\n",
    "import matplotlib.pyplot as plt  # For making graphs\n",
    "from mpl_toolkits.mplot3d import Axes3D  # For 3D plots\n",
    "import scipy.io  # To load .mat files\n",
    "import pandas as pd  # For organizing data\n",
    "\n",
    "# Load the dataset (example: B0005 battery file)\n",
    "data = scipy.io.loadmat('B0005.mat')  # Replace with actual file path\n",
    "\n",
    "# Extract EIS data (assuming it's in the dataset under 'impedance' key)\n",
    "impedance_data = data['B0005']['measurement'][0,0]['impedance'][0,0]\n",
    "cycles = impedance_data['cycle'][0]  # Cycle numbers\n",
    "real_z = impedance_data['Re'][0]  # Real impedance (R(Z))\n",
    "imag_z = impedance_data['Im'][0]  # Imaginary impedance (Im(Z))\n",
    "\n",
    "# Create a 3D plot\n",
    "fig = plt.figure(figsize=(10, 7))  # Make a new figure, set size\n",
    "ax = fig.add_subplot(111, projection='3d')  # Add a 3D axis\n",
    "\n",
    "# Plot the data: X = R(Z), Y = Im(Z), Z = cycle count\n",
    "ax.scatter(real_z, imag_z, cycles, c='b', marker='o')  # Scatter points in blue\n",
    "\n",
    "# Label the axes\n",
    "ax.set_xlabel('Real Impedance (R(Z))')\n",
    "ax.set_ylabel('Imaginary Impedance (Im(Z))')\n",
    "ax.set_zlabel('Cycle Count')\n",
    "\n",
    "# Show the plot\n",
    "plt.title('3D EIS Impedance vs Aging')\n",
    "plt.show()"
   ]
  }
 ],
 "metadata": {
  "kernelspec": {
   "display_name": "Python 3",
   "language": "python",
   "name": "python3"
  },
  "language_info": {
   "codemirror_mode": {
    "name": "ipython",
    "version": 3
   },
   "file_extension": ".py",
   "mimetype": "text/x-python",
   "name": "python",
   "nbconvert_exporter": "python",
   "pygments_lexer": "ipython3",
   "version": "3.12.9"
  }
 },
 "nbformat": 4,
 "nbformat_minor": 2
}
